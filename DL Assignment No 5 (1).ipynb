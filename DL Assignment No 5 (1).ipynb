{
 "cells": [
  {
   "cell_type": "code",
   "execution_count": null,
   "id": "91e453b6",
   "metadata": {},
   "outputs": [],
   "source": [
    "#   Assignment No:5\n",
    "#   Title: Implement the Continuous Bag of Words (CBOW) Model. Stages can be:\n",
    "#   a. Data preparation\n",
    "#   b. Generate training data\n",
    "#   c. Train model\n",
    "#   d. Output.\n",
    "#   Name: Jagdale Pratik Sudam\n",
    "#   CRN No: 9042\n",
    "#   Class :BEIT"
   ]
  },
  {
   "cell_type": "code",
   "execution_count": 2,
   "id": "acd4caa0",
   "metadata": {},
   "outputs": [
    {
     "name": "stdout",
     "output_type": "stream",
     "text": [
      "Collecting gensim\n",
      "  Downloading gensim-4.2.0-cp38-cp38-win_amd64.whl (24.0 MB)\n",
      "Requirement already satisfied: numpy>=1.17.0 in c:\\users\\hp\\anaconda3\\lib\\site-packages (from gensim) (1.20.1)\n",
      "Requirement already satisfied: scipy>=0.18.1 in c:\\users\\hp\\anaconda3\\lib\\site-packages (from gensim) (1.6.2)\n",
      "Collecting Cython==0.29.28\n",
      "  Downloading Cython-0.29.28-py2.py3-none-any.whl (983 kB)\n",
      "Collecting smart-open>=1.8.1\n",
      "  Downloading smart_open-6.2.0-py3-none-any.whl (58 kB)\n",
      "Installing collected packages: smart-open, Cython, gensim\n",
      "  Attempting uninstall: Cython\n",
      "    Found existing installation: Cython 0.29.23\n",
      "    Uninstalling Cython-0.29.23:\n",
      "      Successfully uninstalled Cython-0.29.23\n",
      "Successfully installed Cython-0.29.28 gensim-4.2.0 smart-open-6.2.0\n",
      "Note: you may need to restart the kernel to use updated packages.\n"
     ]
    }
   ],
   "source": [
    "pip install gensim"
   ]
  },
  {
   "cell_type": "code",
   "execution_count": 3,
   "id": "da92415a",
   "metadata": {},
   "outputs": [],
   "source": [
    "#Importing libraries\n",
    "import numpy as np\n",
    "from nltk.tokenize import sent_tokenize, word_tokenize\n",
    "import warnings\n",
    "warnings.filterwarnings(action = 'ignore')\n",
    "import gensim\n",
    "from gensim.models import Word2Vec\n",
    "import re\n",
    "import bs4 as bs\n",
    "import urllib.request\n",
    "import nltk"
   ]
  },
  {
   "cell_type": "code",
   "execution_count": 4,
   "id": "e9636784",
   "metadata": {},
   "outputs": [
    {
     "name": "stderr",
     "output_type": "stream",
     "text": [
      "[nltk_data] Downloading package punkt to\n",
      "[nltk_data]     C:\\Users\\HP\\AppData\\Roaming\\nltk_data...\n",
      "[nltk_data]   Unzipping tokenizers\\punkt.zip.\n",
      "[nltk_data] Downloading package stopwords to\n",
      "[nltk_data]     C:\\Users\\HP\\AppData\\Roaming\\nltk_data...\n",
      "[nltk_data]   Unzipping corpora\\stopwords.zip.\n"
     ]
    },
    {
     "data": {
      "text/plain": [
       "True"
      ]
     },
     "execution_count": 4,
     "metadata": {},
     "output_type": "execute_result"
    }
   ],
   "source": [
    "nltk.download('punkt')\n",
    "nltk.download('stopwords')"
   ]
  },
  {
   "cell_type": "code",
   "execution_count": 5,
   "id": "4c47f76f",
   "metadata": {},
   "outputs": [],
   "source": [
    "sentences = \"\"\"Navratri is a time when Hindus celebrate the goddess Durga for killing the demon, Mahishasura.A more powerful God, Lord Brahma, had blessed Mahishasura with the gift of immortality because of his dedication to him, which meant he could never die.\n",
    "However, this gift did come with one condition - the only person who would be able to defeat Mahishasura would be a woman. Mahishasura didn't think any women would be strong enough to kill him and was happy with the deal.\n",
    "Over the years, Mahishasura and his men became a powerful force attacking people on Earth and no gods were able to defeat him. Finally Lord Brahma, Lord Vishnu and Lord Shiva - the three most powerful Hindu gods - decided to come together and create the goddess Durga, a powerful woman whose job would be to destroy Mahishasura. The gods equipped the new goddess Durga with lots of weapons before she went into battle with Mahishasura.\n",
    "Durga fought the demon for 10 days, and it proved quite difficult as he kept changing his form to confuse the goddess. However, when he finally turned into a buffalo, Durga was able to defeat him.\"\"\""
   ]
  },
  {
   "cell_type": "code",
   "execution_count": 6,
   "id": "c0b5a800",
   "metadata": {},
   "outputs": [
    {
     "name": "stdout",
     "output_type": "stream",
     "text": [
      "Navratri is time when Hindus celebrate the goddess Durga for killing the demon Mahishasura more powerful God Lord Brahma had blessed Mahishasura with the gift of immortality because of his dedication to him which meant he could never die However this gift did come with one condition the only person who would be able to defeat Mahishasura would be woman Mahishasura didn think any women would be strong enough to kill him and was happy with the deal Over the years Mahishasura and his men became powerful force attacking people on Earth and no gods were able to defeat him Finally Lord Brahma Lord Vishnu and Lord Shiva the three most powerful Hindu gods decided to come together and create the goddess Durga powerful woman whose job would be to destroy Mahishasura The gods equipped the new goddess Durga with lots of weapons before she went into battle with Mahishasura Durga fought the demon for 10 days and it proved quite difficult as he kept changing his form to confuse the goddess However when he finally turned into buffalo Durga was able to defeat him\n"
     ]
    }
   ],
   "source": [
    "#Remove one letter words\n",
    "sentences = re.sub('[^A-Za-z0-9]+', ' ', sentences)\n",
    "\n",
    "#Remove special characters\n",
    "sentences = re.sub(r'(?:^| )\\w(?:$| )', ' ', sentences).strip()\n",
    "print(sentences)"
   ]
  },
  {
   "cell_type": "code",
   "execution_count": 7,
   "id": "8ce3579d",
   "metadata": {},
   "outputs": [],
   "source": [
    "#Convert all letters to lowercase\n",
    "sentences = sentences.lower()"
   ]
  },
  {
   "cell_type": "code",
   "execution_count": 8,
   "id": "c8db4c8d",
   "metadata": {},
   "outputs": [
    {
     "name": "stdout",
     "output_type": "stream",
     "text": [
      "['navratri is time when hindus celebrate the goddess durga for killing the demon mahishasura more powerful god lord brahma had blessed mahishasura with the gift of immortality because of his dedication to him which meant he could never die however this gift did come with one condition the only person who would be able to defeat mahishasura would be woman mahishasura didn think any women would be strong enough to kill him and was happy with the deal over the years mahishasura and his men became powerful force attacking people on earth and no gods were able to defeat him finally lord brahma lord vishnu and lord shiva the three most powerful hindu gods decided to come together and create the goddess durga powerful woman whose job would be to destroy mahishasura the gods equipped the new goddess durga with lots of weapons before she went into battle with mahishasura durga fought the demon for 10 days and it proved quite difficult as he kept changing his form to confuse the goddess however when he finally turned into buffalo durga was able to defeat him']\n"
     ]
    }
   ],
   "source": [
    "#Tokenize sentences\n",
    "all_sent=nltk.sent_tokenize(sentences)\n",
    "print(all_sent)"
   ]
  },
  {
   "cell_type": "code",
   "execution_count": 9,
   "id": "68c7eb2c",
   "metadata": {},
   "outputs": [],
   "source": [
    "#Break sentences into words\n",
    "all_words=[nltk.word_tokenize(sent) for sent in all_sent]"
   ]
  },
  {
   "cell_type": "code",
   "execution_count": 10,
   "id": "b1ee4489",
   "metadata": {},
   "outputs": [],
   "source": [
    "#Remove stopwords\n",
    "from nltk.corpus import stopwords\n",
    "for i in range(len(all_words)):\n",
    "  all_words[i]=[w for w in all_words[i] if w not in stopwords.words('english')]\n",
    "data =all_words"
   ]
  },
  {
   "cell_type": "code",
   "execution_count": 14,
   "id": "48fc7e44",
   "metadata": {},
   "outputs": [],
   "source": [
    "#Training model using gensim\n",
    "model1 = gensim.models.Word2Vec(data, min_count=1,vector_size=52,window=6)"
   ]
  },
  {
   "cell_type": "code",
   "execution_count": 15,
   "id": "4e34a329",
   "metadata": {},
   "outputs": [
    {
     "name": "stdout",
     "output_type": "stream",
     "text": [
      "('condition', 0.4304233193397522)\n",
      "('kill', 0.3509697914123535)\n",
      "('brahma', 0.3371739983558655)\n",
      "('whose', 0.3258924186229706)\n",
      "('together', 0.31846994161605835)\n",
      "('force', 0.27486273646354675)\n",
      "('gift', 0.27256345748901367)\n",
      "('difficult', 0.2501605153083801)\n",
      "('shiva', 0.19048668444156647)\n",
      "('buffalo', 0.1818232387304306)\n"
     ]
    }
   ],
   "source": [
    "wrd='goddess'\n",
    "v1=model1.wv[wrd]\n",
    "similar_words=model1.wv.most_similar(wrd)\n",
    "for x in similar_words:\n",
    "  print(x)"
   ]
  },
  {
   "cell_type": "code",
   "execution_count": 16,
   "id": "6e2b45aa",
   "metadata": {},
   "outputs": [
    {
     "name": "stdout",
     "output_type": "stream",
     "text": [
      "['navratri', 'time', 'hindus', 'celebrate', 'goddess', 'durga', 'killing', 'demon', 'mahishasura', 'powerful', 'god', 'lord', 'brahma', 'blessed', 'mahishasura', 'gift', 'immortality', 'dedication', 'meant', 'could', 'never', 'die', 'however', 'gift', 'come', 'one', 'condition', 'person', 'would', 'able', 'defeat', 'mahishasura', 'would', 'woman', 'mahishasura', 'think', 'women', 'would', 'strong', 'enough', 'kill', 'happy', 'deal', 'years', 'mahishasura', 'men', 'became', 'powerful', 'force', 'attacking', 'people', 'earth', 'gods', 'able', 'defeat', 'finally', 'lord', 'brahma', 'lord', 'vishnu', 'lord', 'shiva', 'three', 'powerful', 'hindu', 'gods', 'decided', 'come', 'together', 'create', 'goddess', 'durga', 'powerful', 'woman', 'whose', 'job', 'would', 'destroy', 'mahishasura', 'gods', 'equipped', 'new', 'goddess', 'durga', 'lots', 'weapons', 'went', 'battle', 'mahishasura', 'durga', 'fought', 'demon', '10', 'days', 'proved', 'quite', 'difficult', 'kept', 'changing', 'form', 'confuse', 'goddess', 'however', 'finally', 'turned', 'buffalo', 'durga', 'able', 'defeat']\n"
     ]
    }
   ],
   "source": [
    "data1 = data[0]\n",
    "print(data1)"
   ]
  },
  {
   "cell_type": "code",
   "execution_count": 17,
   "id": "4558691d",
   "metadata": {},
   "outputs": [
    {
     "name": "stdout",
     "output_type": "stream",
     "text": [
      "[(['navratri', 'time', 'celebrate', 'goddess'], 'hindus'), (['time', 'hindus', 'goddess', 'durga'], 'celebrate'), (['hindus', 'celebrate', 'durga', 'killing'], 'goddess'), (['celebrate', 'goddess', 'killing', 'demon'], 'durga'), (['goddess', 'durga', 'demon', 'mahishasura'], 'killing'), (['durga', 'killing', 'mahishasura', 'powerful'], 'demon'), (['killing', 'demon', 'powerful', 'god'], 'mahishasura'), (['demon', 'mahishasura', 'god', 'lord'], 'powerful'), (['mahishasura', 'powerful', 'lord', 'brahma'], 'god'), (['powerful', 'god', 'brahma', 'blessed'], 'lord'), (['god', 'lord', 'blessed', 'mahishasura'], 'brahma'), (['lord', 'brahma', 'mahishasura', 'gift'], 'blessed'), (['brahma', 'blessed', 'gift', 'immortality'], 'mahishasura'), (['blessed', 'mahishasura', 'immortality', 'dedication'], 'gift'), (['mahishasura', 'gift', 'dedication', 'meant'], 'immortality'), (['gift', 'immortality', 'meant', 'could'], 'dedication'), (['immortality', 'dedication', 'could', 'never'], 'meant'), (['dedication', 'meant', 'never', 'die'], 'could'), (['meant', 'could', 'die', 'however'], 'never'), (['could', 'never', 'however', 'gift'], 'die'), (['never', 'die', 'gift', 'come'], 'however'), (['die', 'however', 'come', 'one'], 'gift'), (['however', 'gift', 'one', 'condition'], 'come'), (['gift', 'come', 'condition', 'person'], 'one'), (['come', 'one', 'person', 'would'], 'condition'), (['one', 'condition', 'would', 'able'], 'person'), (['condition', 'person', 'able', 'defeat'], 'would'), (['person', 'would', 'defeat', 'mahishasura'], 'able'), (['would', 'able', 'mahishasura', 'would'], 'defeat'), (['able', 'defeat', 'would', 'woman'], 'mahishasura'), (['defeat', 'mahishasura', 'woman', 'mahishasura'], 'would'), (['mahishasura', 'would', 'mahishasura', 'think'], 'woman'), (['would', 'woman', 'think', 'women'], 'mahishasura'), (['woman', 'mahishasura', 'women', 'would'], 'think'), (['mahishasura', 'think', 'would', 'strong'], 'women'), (['think', 'women', 'strong', 'enough'], 'would'), (['women', 'would', 'enough', 'kill'], 'strong'), (['would', 'strong', 'kill', 'happy'], 'enough'), (['strong', 'enough', 'happy', 'deal'], 'kill'), (['enough', 'kill', 'deal', 'years'], 'happy'), (['kill', 'happy', 'years', 'mahishasura'], 'deal'), (['happy', 'deal', 'mahishasura', 'men'], 'years'), (['deal', 'years', 'men', 'became'], 'mahishasura'), (['years', 'mahishasura', 'became', 'powerful'], 'men'), (['mahishasura', 'men', 'powerful', 'force'], 'became'), (['men', 'became', 'force', 'attacking'], 'powerful'), (['became', 'powerful', 'attacking', 'people'], 'force'), (['powerful', 'force', 'people', 'earth'], 'attacking'), (['force', 'attacking', 'earth', 'gods'], 'people'), (['attacking', 'people', 'gods', 'able'], 'earth'), (['people', 'earth', 'able', 'defeat'], 'gods'), (['earth', 'gods', 'defeat', 'finally'], 'able'), (['gods', 'able', 'finally', 'lord'], 'defeat'), (['able', 'defeat', 'lord', 'brahma'], 'finally'), (['defeat', 'finally', 'brahma', 'lord'], 'lord'), (['finally', 'lord', 'lord', 'vishnu'], 'brahma'), (['lord', 'brahma', 'vishnu', 'lord'], 'lord'), (['brahma', 'lord', 'lord', 'shiva'], 'vishnu'), (['lord', 'vishnu', 'shiva', 'three'], 'lord'), (['vishnu', 'lord', 'three', 'powerful'], 'shiva'), (['lord', 'shiva', 'powerful', 'hindu'], 'three'), (['shiva', 'three', 'hindu', 'gods'], 'powerful'), (['three', 'powerful', 'gods', 'decided'], 'hindu'), (['powerful', 'hindu', 'decided', 'come'], 'gods'), (['hindu', 'gods', 'come', 'together'], 'decided'), (['gods', 'decided', 'together', 'create'], 'come'), (['decided', 'come', 'create', 'goddess'], 'together'), (['come', 'together', 'goddess', 'durga'], 'create'), (['together', 'create', 'durga', 'powerful'], 'goddess'), (['create', 'goddess', 'powerful', 'woman'], 'durga'), (['goddess', 'durga', 'woman', 'whose'], 'powerful'), (['durga', 'powerful', 'whose', 'job'], 'woman'), (['powerful', 'woman', 'job', 'would'], 'whose'), (['woman', 'whose', 'would', 'destroy'], 'job'), (['whose', 'job', 'destroy', 'mahishasura'], 'would'), (['job', 'would', 'mahishasura', 'gods'], 'destroy'), (['would', 'destroy', 'gods', 'equipped'], 'mahishasura'), (['destroy', 'mahishasura', 'equipped', 'new'], 'gods'), (['mahishasura', 'gods', 'new', 'goddess'], 'equipped'), (['gods', 'equipped', 'goddess', 'durga'], 'new'), (['equipped', 'new', 'durga', 'lots'], 'goddess'), (['new', 'goddess', 'lots', 'weapons'], 'durga'), (['goddess', 'durga', 'weapons', 'went'], 'lots'), (['durga', 'lots', 'went', 'battle'], 'weapons'), (['lots', 'weapons', 'battle', 'mahishasura'], 'went'), (['weapons', 'went', 'mahishasura', 'durga'], 'battle'), (['went', 'battle', 'durga', 'fought'], 'mahishasura'), (['battle', 'mahishasura', 'fought', 'demon'], 'durga'), (['mahishasura', 'durga', 'demon', '10'], 'fought'), (['durga', 'fought', '10', 'days'], 'demon'), (['fought', 'demon', 'days', 'proved'], '10'), (['demon', '10', 'proved', 'quite'], 'days'), (['10', 'days', 'quite', 'difficult'], 'proved'), (['days', 'proved', 'difficult', 'kept'], 'quite'), (['proved', 'quite', 'kept', 'changing'], 'difficult'), (['quite', 'difficult', 'changing', 'form'], 'kept'), (['difficult', 'kept', 'form', 'confuse'], 'changing'), (['kept', 'changing', 'confuse', 'goddess'], 'form'), (['changing', 'form', 'goddess', 'however'], 'confuse'), (['form', 'confuse', 'however', 'finally'], 'goddess'), (['confuse', 'goddess', 'finally', 'turned'], 'however'), (['goddess', 'however', 'turned', 'buffalo'], 'finally'), (['however', 'finally', 'buffalo', 'durga'], 'turned'), (['finally', 'turned', 'durga', 'able'], 'buffalo'), (['turned', 'buffalo', 'able', 'defeat'], 'durga')]\n"
     ]
    }
   ],
   "source": [
    "#Preparing list of context words\n",
    "\n",
    "dat = []\n",
    "for i in range(2, len(data1) - 2):\n",
    "    context = [data1[i - 2], data1[i - 1], data1[i+1], data1[i + 2]]\n",
    "    target = data1[i]\n",
    "    dat.append((context, target))\n",
    "print(dat)"
   ]
  },
  {
   "cell_type": "code",
   "execution_count": 18,
   "id": "5e82194b",
   "metadata": {},
   "outputs": [
    {
     "name": "stdout",
     "output_type": "stream",
     "text": [
      "['celebrate', 'goddess', 'killing', 'demon'] durga\n",
      "[('time', 0.013513862), ('force', 0.013513751), ('earth', 0.01351371), ('hindus', 0.013513708), ('blessed', 0.01351369), ('god', 0.013513681), ('dedication', 0.013513677), ('come', 0.013513661), ('vishnu', 0.013513659), ('die', 0.013513643)]\n"
     ]
    }
   ],
   "source": [
    "#Predicting current word from context words\n",
    "i=3\n",
    "print(dat[i][0],dat[i][1])\n",
    "print(model1.predict_output_word(dat[i][0]))"
   ]
  }
 ],
 "metadata": {
  "kernelspec": {
   "display_name": "Python 3 (ipykernel)",
   "language": "python",
   "name": "python3"
  },
  "language_info": {
   "codemirror_mode": {
    "name": "ipython",
    "version": 3
   },
   "file_extension": ".py",
   "mimetype": "text/x-python",
   "name": "python",
   "nbconvert_exporter": "python",
   "pygments_lexer": "ipython3",
   "version": "3.10.6"
  }
 },
 "nbformat": 4,
 "nbformat_minor": 5
}
